{
  "nbformat": 4,
  "nbformat_minor": 0,
  "metadata": {
    "colab": {
      "provenance": []
    },
    "kernelspec": {
      "name": "python3",
      "display_name": "Python 3"
    },
    "language_info": {
      "name": "python"
    }
  },
  "cells": [
    {
      "cell_type": "markdown",
      "source": [
        "# **Crawling Data**"
      ],
      "metadata": {
        "id": "K3OvVr27Wn-N"
      }
    },
    {
      "cell_type": "code",
      "source": [
        "#@title Tweet-Harvest\n",
        "twitter_auth_token = '-'\n",
        "#Instalasi Phyton package yang diperlukan\n",
        "!pip install pandas\n",
        "# Instalasi Node.js\n",
        "!sudo apt-get update\n",
        "!sudo apt-get install -y ca-certificates curl gnupg\n",
        "!sudo mkdir -p /etc/apt/keyrings\n",
        "!curl -fsSL https://deb.nodesource.com/gpgkey/nodesource-repo.gpg.key | sudo gpg --dearmor -o /etc/apt/keyrings/nodesource.gpg\n",
        "!NODE_MAJOR=20 && echo \"deb [signed-by=/etc/apt/keyrings/nodesource.gpg] https://deb.nodesource.com/node_$NODE_MAJOR.x nodistro main\" | sudo tee /etc/apt/sources.list.d/nodesource.list\n",
        "!sudo apt-get update\n",
        "!sudo apt-get install nodejs -y\n",
        "!node -v\n",
        "# Memulai Crawling Data X dibagi dalam 2 batch :# batch 1 dengan rentang waktu 1 Januari - 31 Januari 2025\n",
        "                                                # batch 2 dengan rentang waktu 1 Februari - 28 Februari 2025\n",
        "                                                # batch 3 dengan rentang waktu 1 Maret -  31 Maret 2025\n",
        "                                                # batch 2 dengan rentang waktu 1 April - 30 April 2025\n",
        "filename = 'coretax-crawling-test-ui.csv'\n",
        "search_keyword = 'coretax until:2025-05-31 since:2025-05-01'\n",
        "limit = 200\n",
        "!npx -y tweet-harvest@2.6.1 -o \"{filename}\" -s \"{search_keyword}\" --tab \"LATEST\" -l {limit} --token {twitter_auth_token}\n",
        "#Menyimpan Data Crawling Kedalam Bentuk CSV\n",
        "import pandas as pd\n",
        "# Specify the path to your CSV file\n",
        "file_path = f\"tweets-data/{filename}\"\n",
        "# Read the CSV file into a pandas DataFrame\n",
        "df = pd.read_csv(file_path, delimiter=\",\")\n",
        "# Display the DataFrame\n",
        "display(df)"
      ],
      "metadata": {
        "id": "b8RD8R3_Wvxy"
      },
      "execution_count": null,
      "outputs": []
    }
  ]
}