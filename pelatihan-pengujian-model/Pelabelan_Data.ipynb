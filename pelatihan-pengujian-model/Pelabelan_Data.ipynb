{
  "nbformat": 4,
  "nbformat_minor": 0,
  "metadata": {
    "colab": {
      "provenance": []
    },
    "kernelspec": {
      "name": "python3",
      "display_name": "Python 3"
    },
    "language_info": {
      "name": "python"
    }
  },
  "cells": [
    {
      "cell_type": "markdown",
      "source": [
        "# **Pelabelan Data**"
      ],
      "metadata": {
        "id": "uIyV1YETX3wR"
      }
    },
    {
      "cell_type": "code",
      "source": [
        "import pandas as pd\n",
        "import re\n",
        "from google.colab import files\n",
        "from nltk.tokenize import word_tokenize\n",
        "import nltk\n",
        "\n",
        "# Instalasi library yang dibutuhkan\n",
        "nltk.download('punkt')\n",
        "nltk.download('punkt_tab')\n",
        "\n",
        "\n",
        "# Membaca file lexicon positif dan negatif\n",
        "lexicon_positif = pd.read_csv('positive.csv')\n",
        "lexicon_negatif = pd.read_csv('negative.csv')\n",
        "\n",
        "# Membuat dictionary untuk lexicon positif dan negatif\n",
        "positif_words = set(lexicon_positif['word'].str.lower())\n",
        "negatif_words = set(lexicon_negatif['word'].str.lower())\n",
        "\n",
        "# Membaca file tweet yang sudah diproses\n",
        "tweets = pd.read_csv('data-hasil-preprocessing-final.csv')\n",
        "\n",
        "# Fungsi untuk memberi label sentimen berdasarkan lexicon\n",
        "def label_sentiment(text):\n",
        "    if pd.isnull(text):\n",
        "        return 'netral'\n",
        "    words = word_tokenize(text)\n",
        "\n",
        "    # Menentukan label sentimen berdasarkan kecocokan dengan lexicon positif dan negatif\n",
        "    positif_count = sum(1 for word in words if word in positif_words)\n",
        "    negatif_count = sum(1 for word in words if word in negatif_words)\n",
        "\n",
        "    # Labeling berdasarkan jumlah kecocokan\n",
        "    if positif_count > negatif_count:\n",
        "        return 'positif'\n",
        "    elif negatif_count > positif_count:\n",
        "        return 'negatif'\n",
        "    else:\n",
        "        return 'netral'\n",
        "\n",
        "# Langkah 7: Penerapan fungsi labeling pada data tweet yang sudah preprocessing\n",
        "tweets['label'] = tweets['full_text'].apply(label_sentiment)\n",
        "\n",
        "# Langkah 8: Menyimpan hasil labeling ke CSV baru\n",
        "output_filename = 'tweets-labeled.csv'\n",
        "tweets.to_csv(output_filename, index=False)\n",
        "\n",
        "# Langkah 9: Mengunduh file hasil labeling\n",
        "files.download(output_filename)\n",
        "\n",
        "# Menampilkan beberapa contoh hasil\n",
        "print(\"\\nContoh Data Setelah Labeling:\\n\")\n",
        "print(tweets.head())\n"
      ],
      "metadata": {
        "id": "0RQdQDG5X6_t"
      },
      "execution_count": null,
      "outputs": []
    }
  ]
}